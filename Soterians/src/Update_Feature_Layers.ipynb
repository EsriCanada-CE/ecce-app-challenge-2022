{
 "cells": [
  {
   "cell_type": "code",
   "execution_count": 33,
   "metadata": {},
   "outputs": [],
   "source": [
    "from time import strftime\n",
    "from ftplib import FTP\n",
    "from arcgis.gis import GIS\n",
    "from arcgis.features import FeatureLayerCollection\n",
    "\n",
    "\n",
    "feature_id_west = '3925860dd70b4010ad84791866e9c22e'\n",
    "feature_id_east = 'e478d6c32f65472dac461b0cd56f431d'\n",
    "username = 'amirnbr_yorku'\n",
    "password = 'xxxxxxxxxxxxx'\n"
   ]
  },
  {
   "cell_type": "code",
   "execution_count": 13,
   "metadata": {},
   "outputs": [],
   "source": [
    "geojson_east = 'https://asdaru.com/geojson/eastdata.geojson'\n",
    "geojson_west = 'https://asdaru.com/geojson/westdata.geojson'\n",
    "\n",
    "api_west= 'https://asdaru.com:6443/amir/tweet?q=&lat=43.70663907414717&long=-79.48711329220372&radius=9&area=west&range=0.4'\n",
    "api_east='https://asdaru.com:6443/amir/tweet?q=&lat=43.743984136972344&long=-79.40824741864502&radius=9&area=east&range=0.4'"
   ]
  },
  {
   "cell_type": "code",
   "execution_count": null,
   "metadata": {
    "scrolled": true
   },
   "outputs": [],
   "source": [
    "# West area\n",
    "import requests\n",
    "\n",
    "url = \"https://asdaru.com:6443/amir/tweet?q=&lat=43.70663907414717&long=-79.48711329220372&radius=9&area=westdata&range=0.4\"\n",
    "\n",
    "payload={'productName': 'ave',\n",
    "'mainCate': 'cosmetic',\n",
    "'subCat1': 'empty',\n",
    "'subCat2': 'empty',\n",
    "'subCat3': 'empty',\n",
    "'subCat4': 'empty',\n",
    "'subCat5': 'empty',\n",
    "'brand': 'empty',\n",
    "'price': '2000',\n",
    "'offerPercentage': '0',\n",
    "'offerStatus': 'false',\n",
    "'productDescription': 'empty',\n",
    "'currency': 'toman',\n",
    "'inventoryQuantity': '100',\n",
    "'inventory': 'true'}\n",
    "\n",
    "headers = {\n",
    "  'Cookie': 'connect.sid=s%3AiRVSmnA7U5duB0z3sAf6GJFaJ2PCaiOv.VulzvjJ05MracK%2FHY2wTv%2B9rXjQE5VcoKklW68jOlPE'\n",
    "}\n",
    "\n",
    "response = requests.request(\"GET\", url, headers=headers, data=payload)\n",
    "\n",
    "print(response.text)\n"
   ]
  },
  {
   "cell_type": "code",
   "execution_count": 25,
   "metadata": {},
   "outputs": [],
   "source": [
    "with open('westdata.geojson', 'a',encoding=\"utf-8\") as fp:\n",
    "    fp.write(response.text)"
   ]
  },
  {
   "cell_type": "code",
   "execution_count": null,
   "metadata": {
    "scrolled": false
   },
   "outputs": [],
   "source": [
    "# East area\n",
    "import requests\n",
    "\n",
    "url = \"https://asdaru.com:6443/amir/tweet?q=&lat=43.70663907414717&long=-79.48711329220372&radius=9&area=eastdata&range=0.4\"\n",
    "\n",
    "payload={'productName': 'ave',\n",
    "'mainCate': 'cosmetic',\n",
    "'subCat1': 'empty',\n",
    "'subCat2': 'empty',\n",
    "'subCat3': 'empty',\n",
    "'subCat4': 'empty',\n",
    "'subCat5': 'empty',\n",
    "'brand': 'empty',\n",
    "'price': '2000',\n",
    "'offerPercentage': '0',\n",
    "'offerStatus': 'false',\n",
    "'productDescription': 'empty',\n",
    "'currency': 'toman',\n",
    "'inventoryQuantity': '100',\n",
    "'inventory': 'true'}\n",
    "\n",
    "headers = {\n",
    "  'Cookie': 'connect.sid=s%3AiRVSmnA7U5duB0z3sAf6GJFaJ2PCaiOv.VulzvjJ05MracK%2FHY2wTv%2B9rXjQE5VcoKklW68jOlPE'\n",
    "}\n",
    "\n",
    "response = requests.request(\"GET\", url, headers=headers, data=payload)\n",
    "\n",
    "print(response.text)"
   ]
  },
  {
   "cell_type": "code",
   "execution_count": 26,
   "metadata": {},
   "outputs": [],
   "source": [
    "with open('eastdata.geojson', 'a',encoding=\"utf-8\") as fp:\n",
    "    fp.write(response.text)"
   ]
  },
  {
   "cell_type": "code",
   "execution_count": null,
   "metadata": {},
   "outputs": [],
   "source": [
    "import requests\n",
    "\n",
    "url = \"https://asdaru.com/geojson/testdata.geojson\"\n",
    "\n",
    "payload={'productName': 'ave',\n",
    "'mainCate': 'cosmetic',\n",
    "'subCat1': 'empty',\n",
    "'subCat2': 'empty',\n",
    "'subCat3': 'empty',\n",
    "'subCat4': 'empty',\n",
    "'subCat5': 'empty',\n",
    "'brand': 'empty',\n",
    "'price': '2000',\n",
    "'offerPercentage': '0',\n",
    "'offerStatus': 'false',\n",
    "'productDescription': 'empty',\n",
    "'currency': 'toman',\n",
    "'inventoryQuantity': '100',\n",
    "'inventory': 'true'}\n",
    "headers = {\n",
    "  'Cookie': 'connect.sid=s%3AiRVSmnA7U5duB0z3sAf6GJFaJ2PCaiOv.VulzvjJ05MracK%2FHY2wTv%2B9rXjQE5VcoKklW68jOlPE'\n",
    "}\n",
    "\n",
    "response = requests.request(\"GET\", url, headers=headers, data=payload)\n",
    "\n",
    "print(response.text)"
   ]
  },
  {
   "cell_type": "code",
   "execution_count": null,
   "metadata": {
    "scrolled": false
   },
   "outputs": [],
   "source": [
    "from pathlib import Path\n",
    "\n",
    "#file = Path.joinpath('Resources', 'test.txt')\n",
    "file_west = Path.cwd() / 'westdata.geojson'\n",
    "file_east = Path.cwd() / 'eastdata.geojson'\n",
    "#file.read_text()\n",
    "\n",
    "# Open the file in \"read\" mode ('r') \n",
    "with open(file_west, 'r',encoding=\"utf-8\" ) as text:\n",
    "    textfile = text.read()\n",
    "    print(textfile)"
   ]
  },
  {
   "cell_type": "code",
   "execution_count": 32,
   "metadata": {},
   "outputs": [
    {
     "name": "stdout",
     "output_type": "stream",
     "text": [
      "testamirnbr_yorku\n"
     ]
    }
   ],
   "source": [
    "gis = GIS('https://yorku.maps.arcgis.com/', username, password)\n",
    "un =gis.properties.user.username\n",
    "print('test' + un)\n",
    "\n",
    "twitter_feature_layer_west = gis.content.get(feature_id_west)\n",
    "twitter_feature_layer_east = gis.content.get(feature_id_east)\n",
    "twitter_feature_layer_west_col = FeatureLayerCollection.fromitem(twitter_feature_layer_west)\n",
    "twitter_feature_layer_east_col = FeatureLayerCollection.fromitem(twitter_feature_layer_east)\n",
    "\n",
    "\n",
    "\n",
    "with open(file_west, 'r',encoding=\"utf-8\" ) as text:\n",
    "    textfile = text.read()\n",
    "    #print(textfile)\n",
    "    twitter_feature_layer_west_col.manager.overwrite(textfile)\n",
    "\n",
    "    \n",
    "with open(file_east, 'r',encoding=\"utf-8\" ) as text:\n",
    "    textfile = text.read()\n",
    "    #print(textfile)\n",
    "    twitter_feature_layer_east_col.manager.overwrite(textfile)"
   ]
  }
 ],
 "metadata": {
  "kernelspec": {
   "display_name": "arcgis",
   "language": "python",
   "name": "arcgis"
  },
  "language_info": {
   "codemirror_mode": {
    "name": "ipython",
    "version": 3
   },
   "file_extension": ".py",
   "mimetype": "text/x-python",
   "name": "python",
   "nbconvert_exporter": "python",
   "pygments_lexer": "ipython3",
   "version": "3.6.15"
  },
  "toc": {
   "base_numbering": 1,
   "nav_menu": {},
   "number_sections": true,
   "sideBar": true,
   "skip_h1_title": false,
   "title_cell": "Table of Contents",
   "title_sidebar": "Contents",
   "toc_cell": false,
   "toc_position": {},
   "toc_section_display": true,
   "toc_window_display": false
  }
 },
 "nbformat": 4,
 "nbformat_minor": 4
}
